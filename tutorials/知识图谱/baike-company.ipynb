{
 "cells": [
  {
   "cell_type": "code",
   "execution_count": 1,
   "metadata": {},
   "outputs": [],
   "source": [
    "import pandas as pd \n",
    "from smoothnlp import nlp \n",
    "from smoothnlp import kg\n",
    "from smoothnlp import config"
   ]
  },
  {
   "cell_type": "code",
   "execution_count": 2,
   "metadata": {},
   "outputs": [
    {
     "data": {
      "text/plain": [
       "['百度', '百科']"
      ]
     },
     "execution_count": 2,
     "metadata": {},
     "output_type": "execute_result"
    }
   ],
   "source": [
    "nlp.segment(\"百度百科\")"
   ]
  },
  {
   "cell_type": "code",
   "execution_count": 3,
   "metadata": {},
   "outputs": [
    {
     "name": "stdout",
     "output_type": "stream",
     "text": [
      "done\n"
     ]
    }
   ],
   "source": [
    "import matplotlib.pyplot as plt\n",
    "import matplotlib.font_manager as font_manager\n",
    "## 设置字体\n",
    "font_dirs = ['simhei/']\n",
    "font_files = font_manager.findSystemFonts(fontpaths=font_dirs)\n",
    "font_list = font_manager.createFontList(font_files)\n",
    "font_manager.fontManager.ttflist.extend(font_list)\n",
    "plt.rcParams['font.family'] = \"SimHei\"\n",
    "print(\"done\")"
   ]
  },
  {
   "cell_type": "code",
   "execution_count": 5,
   "metadata": {},
   "outputs": [],
   "source": [
    "df_baike = pd.read_csv(\"test.csv\")"
   ]
  },
  {
   "cell_type": "code",
   "execution_count": 21,
   "metadata": {},
   "outputs": [
    {
     "data": {
      "text/html": [
       "<div>\n",
       "<style scoped>\n",
       "    .dataframe tbody tr th:only-of-type {\n",
       "        vertical-align: middle;\n",
       "    }\n",
       "\n",
       "    .dataframe tbody tr th {\n",
       "        vertical-align: top;\n",
       "    }\n",
       "\n",
       "    .dataframe thead th {\n",
       "        text-align: right;\n",
       "    }\n",
       "</style>\n",
       "<table border=\"1\" class=\"dataframe\">\n",
       "  <thead>\n",
       "    <tr style=\"text-align: right;\">\n",
       "      <th></th>\n",
       "      <th>url</th>\n",
       "      <th>title</th>\n",
       "      <th>content</th>\n",
       "      <th>tags</th>\n",
       "    </tr>\n",
       "  </thead>\n",
       "  <tbody>\n",
       "    <tr>\n",
       "      <th>0</th>\n",
       "      <td>https://baike.baidu.com/item/%E4%B8%8A%E6%B5%B...</td>\n",
       "      <td>上海圣维仕物业管理有限公司</td>\n",
       "      <td>上海圣维仕物业管理有限公司成立于1984年，专营高档公寓、酒店式公寓、甲级OFFICE、别墅...</td>\n",
       "      <td>NaN</td>\n",
       "    </tr>\n",
       "    <tr>\n",
       "      <th>1</th>\n",
       "      <td>上海圣维仕物业管理有限公司成立于1984年，专营高档公寓、酒店式公寓、甲级OFFICE、别墅...</td>\n",
       "      <td>NaN</td>\n",
       "      <td>NaN</td>\n",
       "      <td>NaN</td>\n",
       "    </tr>\n",
       "    <tr>\n",
       "      <th>2</th>\n",
       "      <td>经营内容</td>\n",
       "      <td>NaN</td>\n",
       "      <td>NaN</td>\n",
       "      <td>NaN</td>\n",
       "    </tr>\n",
       "    <tr>\n",
       "      <th>3</th>\n",
       "      <td>产品品牌</td>\n",
       "      <td>NaN</td>\n",
       "      <td>NaN</td>\n",
       "      <td>NaN</td>\n",
       "    </tr>\n",
       "    <tr>\n",
       "      <th>4</th>\n",
       "      <td>公司架构</td>\n",
       "      <td>NaN</td>\n",
       "      <td>NaN</td>\n",
       "      <td>NaN</td>\n",
       "    </tr>\n",
       "    <tr>\n",
       "      <th>5</th>\n",
       "      <td>发展历史</td>\n",
       "      <td>组织机构\\t公司</td>\n",
       "      <td>NaN</td>\n",
       "      <td>NaN</td>\n",
       "    </tr>\n",
       "    <tr>\n",
       "      <th>6</th>\n",
       "      <td>https://baike.baidu.com/item/%E4%B8%8A%E6%B5%B...</td>\n",
       "      <td>上海均瑶集团</td>\n",
       "      <td>均瑶集团成立于1991年7月，至今走过了27年的发展历程。目前，均瑶集团以航空运输、营销服务...</td>\n",
       "      <td>公司</td>\n",
       "    </tr>\n",
       "    <tr>\n",
       "      <th>7</th>\n",
       "      <td>https://baike.baidu.com/item/%E4%B8%8A%E6%B5%B...</td>\n",
       "      <td>上海城市动漫出版传媒有限公司</td>\n",
       "      <td>上海城市动漫出版传媒有限公司（简称城市动漫）创立于2005年，隶属于文汇新民联合报业集团。原...</td>\n",
       "      <td>NaN</td>\n",
       "    </tr>\n",
       "    <tr>\n",
       "      <th>8</th>\n",
       "      <td>城市动漫秉承“城市人文，精彩动漫”的理念，以振兴上海动漫为己任，业务范围涵盖影视制作、动漫原...</td>\n",
       "      <td>NaN</td>\n",
       "      <td>NaN</td>\n",
       "      <td>NaN</td>\n",
       "    </tr>\n",
       "    <tr>\n",
       "      <th>9</th>\n",
       "      <td>城市动漫联合华特迪士尼开发的情景剧、动画片《课间好时光》，已经生产各200集，在全国50多个...</td>\n",
       "      <td>NaN</td>\n",
       "      <td>NaN</td>\n",
       "      <td>NaN</td>\n",
       "    </tr>\n",
       "    <tr>\n",
       "      <th>10</th>\n",
       "      <td>城市动漫在保持动漫原创长足发展的基础上，致力于连环画的原创，已经成功创作、出版《画说中共一大...</td>\n",
       "      <td>NaN</td>\n",
       "      <td>NaN</td>\n",
       "      <td>NaN</td>\n",
       "    </tr>\n",
       "    <tr>\n",
       "      <th>11</th>\n",
       "      <td>公司核心团队拥有上海世博会工作经历，华特迪士尼公司合作经历，具有国际眼光和专业水准。成立以来...</td>\n",
       "      <td>组织机构\\t公司</td>\n",
       "      <td>NaN</td>\n",
       "      <td>NaN</td>\n",
       "    </tr>\n",
       "    <tr>\n",
       "      <th>12</th>\n",
       "      <td>https://baike.baidu.com/item/%E4%B8%8A%E6%B5%B...</td>\n",
       "      <td>上海城市动漫出版传媒有限公司</td>\n",
       "      <td>上海城市动漫出版传媒有限公司（简称城市动漫）创立于2005年，隶属于文汇新民联合报业集团。原...</td>\n",
       "      <td>NaN</td>\n",
       "    </tr>\n",
       "    <tr>\n",
       "      <th>13</th>\n",
       "      <td>城市动漫秉承“城市人文，精彩动漫”的理念，以振兴上海动漫为己任，业务范围涵盖影视制作、动漫原...</td>\n",
       "      <td>NaN</td>\n",
       "      <td>NaN</td>\n",
       "      <td>NaN</td>\n",
       "    </tr>\n",
       "    <tr>\n",
       "      <th>14</th>\n",
       "      <td>城市动漫联合华特迪士尼开发的情景剧、动画片《课间好时光》，已经生产各200集，在全国50多个...</td>\n",
       "      <td>NaN</td>\n",
       "      <td>NaN</td>\n",
       "      <td>NaN</td>\n",
       "    </tr>\n",
       "    <tr>\n",
       "      <th>15</th>\n",
       "      <td>城市动漫在保持动漫原创长足发展的基础上，致力于连环画的原创，已经成功创作、出版《画说中共一大...</td>\n",
       "      <td>NaN</td>\n",
       "      <td>NaN</td>\n",
       "      <td>NaN</td>\n",
       "    </tr>\n",
       "    <tr>\n",
       "      <th>16</th>\n",
       "      <td>公司核心团队拥有上海世博会工作经历，华特迪士尼公司合作经历，具有国际眼光和专业水准。成立以来...</td>\n",
       "      <td>组织机构\\t公司</td>\n",
       "      <td>NaN</td>\n",
       "      <td>NaN</td>\n",
       "    </tr>\n",
       "    <tr>\n",
       "      <th>17</th>\n",
       "      <td>https://baike.baidu.com/item/%E4%B8%8A%E6%B5%B...</td>\n",
       "      <td>上海城市历史发展陈列馆</td>\n",
       "      <td>上海城市历史发展陈列馆位于东方明珠广播电视塔内，是反映上海近代历史变迁的形象陈列，展示面积达...</td>\n",
       "      <td>NaN</td>\n",
       "    </tr>\n",
       "    <tr>\n",
       "      <th>18</th>\n",
       "      <td>整个陈列馆由“华亭溯源。由“序馆：车马春秋”、“第一馆：城厢风貌”、“第二馆：开埠掠影”、“...</td>\n",
       "      <td>NaN</td>\n",
       "      <td>NaN</td>\n",
       "      <td>NaN</td>\n",
       "    </tr>\n",
       "    <tr>\n",
       "      <th>19</th>\n",
       "      <td>乘2号线到陆家嘴站下车，从1号口出来即可。</td>\n",
       "      <td>NaN</td>\n",
       "      <td>NaN</td>\n",
       "      <td>NaN</td>\n",
       "    </tr>\n",
       "    <tr>\n",
       "      <th>20</th>\n",
       "      <td>乘都市观光旅游2线到东方明珠广播电视塔站下车，或乘81、779、939等到陆家嘴环路丰和路站下车。</td>\n",
       "      <td>NaN</td>\n",
       "      <td>NaN</td>\n",
       "      <td>NaN</td>\n",
       "    </tr>\n",
       "    <tr>\n",
       "      <th>21</th>\n",
       "      <td>整个陈列馆，由“序馆：车马春秋”、“第一馆：城厢风貌”、“第二馆：开埠掠影”、“第三馆：十里...</td>\n",
       "      <td>NaN</td>\n",
       "      <td>NaN</td>\n",
       "      <td>NaN</td>\n",
       "    </tr>\n",
       "    <tr>\n",
       "      <th>22</th>\n",
       "      <td>陈列馆征集文物及其他展品余件，上海城市历史发展陈列馆采用“融物于景”的场景化展示手法，辅以高...</td>\n",
       "      <td>NaN</td>\n",
       "      <td>NaN</td>\n",
       "      <td>NaN</td>\n",
       "    </tr>\n",
       "    <tr>\n",
       "      <th>23</th>\n",
       "      <td>上海城市历史发展陈列馆</td>\n",
       "      <td>NaN</td>\n",
       "      <td>NaN</td>\n",
       "      <td>NaN</td>\n",
       "    </tr>\n",
       "    <tr>\n",
       "      <th>24</th>\n",
       "      <td>上海城市历史发展陈列馆</td>\n",
       "      <td>NaN</td>\n",
       "      <td>NaN</td>\n",
       "      <td>NaN</td>\n",
       "    </tr>\n",
       "    <tr>\n",
       "      <th>25</th>\n",
       "      <td>地址：浦东世纪大道1号东方明珠零米大厅内（丰和路明珠塔路）</td>\n",
       "      <td>文物考古\\t历史\\t公司</td>\n",
       "      <td>NaN</td>\n",
       "      <td>NaN</td>\n",
       "    </tr>\n",
       "    <tr>\n",
       "      <th>26</th>\n",
       "      <td>https://baike.baidu.com/item/%E4%B8%8A%E6%B5%B...</td>\n",
       "      <td>上海城投控股股份有限公司</td>\n",
       "      <td>公司于1992年7月21日经上海市建设委员会“沪建经(92)第657号”文批准，由上海市自来...</td>\n",
       "      <td>公司</td>\n",
       "    </tr>\n",
       "    <tr>\n",
       "      <th>27</th>\n",
       "      <td>https://baike.baidu.com/item/%E4%B8%8A%E6%B5%B...</td>\n",
       "      <td>上海培罗蒙西服公司</td>\n",
       "      <td>上海培罗蒙西服公司成立于1928年，总部位于上海，是一家西服制作有限公司。</td>\n",
       "      <td>NaN</td>\n",
       "    </tr>\n",
       "    <tr>\n",
       "      <th>28</th>\n",
       "      <td>上海培罗蒙西服公司是国家级非物质文化遗产代表性项目“中式服装制作技艺（培罗蒙奉帮裁缝技艺）”...</td>\n",
       "      <td>NaN</td>\n",
       "      <td>NaN</td>\n",
       "      <td>NaN</td>\n",
       "    </tr>\n",
       "    <tr>\n",
       "      <th>29</th>\n",
       "      <td>创建于1928年，半个多世纪以来，以西服、大衣为代表，凭藉技术精湛，选料新颖，风格独特而闻名...</td>\n",
       "      <td>NaN</td>\n",
       "      <td>NaN</td>\n",
       "      <td>NaN</td>\n",
       "    </tr>\n",
       "    <tr>\n",
       "      <th>30</th>\n",
       "      <td>改革开放以来，培罗蒙飞速发展，年产销能力已超过了30万套西服。公司现有三家合肥市资生产企业和...</td>\n",
       "      <td>NaN</td>\n",
       "      <td>NaN</td>\n",
       "      <td>NaN</td>\n",
       "    </tr>\n",
       "    <tr>\n",
       "      <th>31</th>\n",
       "      <td>公司全套引进日本、意大利、德国的先进设备和流水线，把现代工艺同传统工艺完善结合，与中国纺大合...</td>\n",
       "      <td>NaN</td>\n",
       "      <td>NaN</td>\n",
       "      <td>NaN</td>\n",
       "    </tr>\n",
       "    <tr>\n",
       "      <th>32</th>\n",
       "      <td>培罗蒙历年来获市、区40多项荣誉，97年销售额突破了三亿元，市场占有率大幅上升，连续三年被命...</td>\n",
       "      <td>NaN</td>\n",
       "      <td>NaN</td>\n",
       "      <td>NaN</td>\n",
       "    </tr>\n",
       "    <tr>\n",
       "      <th>33</th>\n",
       "      <td>在即将跨入新世纪的今天，培罗蒙人在开发新产品，开拓名牌之路方面将迈出更大的步伐，为弘扬中华名...</td>\n",
       "      <td>NaN</td>\n",
       "      <td>NaN</td>\n",
       "      <td>NaN</td>\n",
       "    </tr>\n",
       "    <tr>\n",
       "      <th>34</th>\n",
       "      <td>2019年11月，上海培罗蒙西服公司获得国家级非物质文化遗产代表性项目“中式服装制作技艺（培...</td>\n",
       "      <td>公司</td>\n",
       "      <td>NaN</td>\n",
       "      <td>NaN</td>\n",
       "    </tr>\n",
       "    <tr>\n",
       "      <th>35</th>\n",
       "      <td>https://baike.baidu.com/item/%E4%B8%8A%E6%B5%B...</td>\n",
       "      <td>上海培训网</td>\n",
       "      <td>上海培训网为用户提供丰富多彩的培训信息，并向培训机构提供优质信息应用服务，良好信誉及信息优势...</td>\n",
       "      <td>组织机构\\t公司</td>\n",
       "    </tr>\n",
       "    <tr>\n",
       "      <th>36</th>\n",
       "      <td>https://baike.baidu.com/item/%E4%B8%8A%E6%B5%B...</td>\n",
       "      <td>上海声像出版社</td>\n",
       "      <td>上海声像出版社成立于1983年，集音像制品的摄录、编辑、复制、出版和发行于一体，是我国超大型...</td>\n",
       "      <td>NaN</td>\n",
       "    </tr>\n",
       "    <tr>\n",
       "      <th>37</th>\n",
       "      <td>上海声像出版社成立于1983年，集音像制品的摄录、编辑、复制、出版和发行于一体，是我国超大型...</td>\n",
       "      <td>NaN</td>\n",
       "      <td>NaN</td>\n",
       "      <td>NaN</td>\n",
       "    </tr>\n",
       "    <tr>\n",
       "      <th>38</th>\n",
       "      <td>作为中国音像界的领头羊上海声像与海外唱片业有着广泛深入的合作。目前它与滚石、索尼、时代华纳百...</td>\n",
       "      <td>NaN</td>\n",
       "      <td>NaN</td>\n",
       "      <td>NaN</td>\n",
       "    </tr>\n",
       "    <tr>\n",
       "      <th>39</th>\n",
       "      <td>上海声像一直秉持“声像并举、多元发展”的经营原则，本社迄今已斥资数百万元拍摄7电视连续剧《走...</td>\n",
       "      <td>NaN</td>\n",
       "      <td>NaN</td>\n",
       "      <td>NaN</td>\n",
       "    </tr>\n",
       "  </tbody>\n",
       "</table>\n",
       "</div>"
      ],
      "text/plain": [
       "                                                  url           title  \\\n",
       "0   https://baike.baidu.com/item/%E4%B8%8A%E6%B5%B...   上海圣维仕物业管理有限公司   \n",
       "1   上海圣维仕物业管理有限公司成立于1984年，专营高档公寓、酒店式公寓、甲级OFFICE、别墅...             NaN   \n",
       "2                                                经营内容             NaN   \n",
       "3                                                产品品牌             NaN   \n",
       "4                                                公司架构             NaN   \n",
       "5                                                发展历史        组织机构\\t公司   \n",
       "6   https://baike.baidu.com/item/%E4%B8%8A%E6%B5%B...          上海均瑶集团   \n",
       "7   https://baike.baidu.com/item/%E4%B8%8A%E6%B5%B...  上海城市动漫出版传媒有限公司   \n",
       "8   城市动漫秉承“城市人文，精彩动漫”的理念，以振兴上海动漫为己任，业务范围涵盖影视制作、动漫原...             NaN   \n",
       "9   城市动漫联合华特迪士尼开发的情景剧、动画片《课间好时光》，已经生产各200集，在全国50多个...             NaN   \n",
       "10  城市动漫在保持动漫原创长足发展的基础上，致力于连环画的原创，已经成功创作、出版《画说中共一大...             NaN   \n",
       "11  公司核心团队拥有上海世博会工作经历，华特迪士尼公司合作经历，具有国际眼光和专业水准。成立以来...        组织机构\\t公司   \n",
       "12  https://baike.baidu.com/item/%E4%B8%8A%E6%B5%B...  上海城市动漫出版传媒有限公司   \n",
       "13  城市动漫秉承“城市人文，精彩动漫”的理念，以振兴上海动漫为己任，业务范围涵盖影视制作、动漫原...             NaN   \n",
       "14  城市动漫联合华特迪士尼开发的情景剧、动画片《课间好时光》，已经生产各200集，在全国50多个...             NaN   \n",
       "15  城市动漫在保持动漫原创长足发展的基础上，致力于连环画的原创，已经成功创作、出版《画说中共一大...             NaN   \n",
       "16  公司核心团队拥有上海世博会工作经历，华特迪士尼公司合作经历，具有国际眼光和专业水准。成立以来...        组织机构\\t公司   \n",
       "17  https://baike.baidu.com/item/%E4%B8%8A%E6%B5%B...     上海城市历史发展陈列馆   \n",
       "18  整个陈列馆由“华亭溯源。由“序馆：车马春秋”、“第一馆：城厢风貌”、“第二馆：开埠掠影”、“...             NaN   \n",
       "19                              乘2号线到陆家嘴站下车，从1号口出来即可。             NaN   \n",
       "20  乘都市观光旅游2线到东方明珠广播电视塔站下车，或乘81、779、939等到陆家嘴环路丰和路站下车。             NaN   \n",
       "21  整个陈列馆，由“序馆：车马春秋”、“第一馆：城厢风貌”、“第二馆：开埠掠影”、“第三馆：十里...             NaN   \n",
       "22  陈列馆征集文物及其他展品余件，上海城市历史发展陈列馆采用“融物于景”的场景化展示手法，辅以高...             NaN   \n",
       "23                                        上海城市历史发展陈列馆             NaN   \n",
       "24                                        上海城市历史发展陈列馆             NaN   \n",
       "25                      地址：浦东世纪大道1号东方明珠零米大厅内（丰和路明珠塔路）    文物考古\\t历史\\t公司   \n",
       "26  https://baike.baidu.com/item/%E4%B8%8A%E6%B5%B...    上海城投控股股份有限公司   \n",
       "27  https://baike.baidu.com/item/%E4%B8%8A%E6%B5%B...       上海培罗蒙西服公司   \n",
       "28  上海培罗蒙西服公司是国家级非物质文化遗产代表性项目“中式服装制作技艺（培罗蒙奉帮裁缝技艺）”...             NaN   \n",
       "29  创建于1928年，半个多世纪以来，以西服、大衣为代表，凭藉技术精湛，选料新颖，风格独特而闻名...             NaN   \n",
       "30  改革开放以来，培罗蒙飞速发展，年产销能力已超过了30万套西服。公司现有三家合肥市资生产企业和...             NaN   \n",
       "31  公司全套引进日本、意大利、德国的先进设备和流水线，把现代工艺同传统工艺完善结合，与中国纺大合...             NaN   \n",
       "32  培罗蒙历年来获市、区40多项荣誉，97年销售额突破了三亿元，市场占有率大幅上升，连续三年被命...             NaN   \n",
       "33  在即将跨入新世纪的今天，培罗蒙人在开发新产品，开拓名牌之路方面将迈出更大的步伐，为弘扬中华名...             NaN   \n",
       "34  2019年11月，上海培罗蒙西服公司获得国家级非物质文化遗产代表性项目“中式服装制作技艺（培...              公司   \n",
       "35  https://baike.baidu.com/item/%E4%B8%8A%E6%B5%B...           上海培训网   \n",
       "36  https://baike.baidu.com/item/%E4%B8%8A%E6%B5%B...         上海声像出版社   \n",
       "37  上海声像出版社成立于1983年，集音像制品的摄录、编辑、复制、出版和发行于一体，是我国超大型...             NaN   \n",
       "38  作为中国音像界的领头羊上海声像与海外唱片业有着广泛深入的合作。目前它与滚石、索尼、时代华纳百...             NaN   \n",
       "39  上海声像一直秉持“声像并举、多元发展”的经营原则，本社迄今已斥资数百万元拍摄7电视连续剧《走...             NaN   \n",
       "\n",
       "                                              content      tags  \n",
       "0   上海圣维仕物业管理有限公司成立于1984年，专营高档公寓、酒店式公寓、甲级OFFICE、别墅...       NaN  \n",
       "1                                                 NaN       NaN  \n",
       "2                                                 NaN       NaN  \n",
       "3                                                 NaN       NaN  \n",
       "4                                                 NaN       NaN  \n",
       "5                                                 NaN       NaN  \n",
       "6   均瑶集团成立于1991年7月，至今走过了27年的发展历程。目前，均瑶集团以航空运输、营销服务...        公司  \n",
       "7   上海城市动漫出版传媒有限公司（简称城市动漫）创立于2005年，隶属于文汇新民联合报业集团。原...       NaN  \n",
       "8                                                 NaN       NaN  \n",
       "9                                                 NaN       NaN  \n",
       "10                                                NaN       NaN  \n",
       "11                                                NaN       NaN  \n",
       "12  上海城市动漫出版传媒有限公司（简称城市动漫）创立于2005年，隶属于文汇新民联合报业集团。原...       NaN  \n",
       "13                                                NaN       NaN  \n",
       "14                                                NaN       NaN  \n",
       "15                                                NaN       NaN  \n",
       "16                                                NaN       NaN  \n",
       "17  上海城市历史发展陈列馆位于东方明珠广播电视塔内，是反映上海近代历史变迁的形象陈列，展示面积达...       NaN  \n",
       "18                                                NaN       NaN  \n",
       "19                                                NaN       NaN  \n",
       "20                                                NaN       NaN  \n",
       "21                                                NaN       NaN  \n",
       "22                                                NaN       NaN  \n",
       "23                                                NaN       NaN  \n",
       "24                                                NaN       NaN  \n",
       "25                                                NaN       NaN  \n",
       "26  公司于1992年7月21日经上海市建设委员会“沪建经(92)第657号”文批准，由上海市自来...        公司  \n",
       "27              上海培罗蒙西服公司成立于1928年，总部位于上海，是一家西服制作有限公司。       NaN  \n",
       "28                                                NaN       NaN  \n",
       "29                                                NaN       NaN  \n",
       "30                                                NaN       NaN  \n",
       "31                                                NaN       NaN  \n",
       "32                                                NaN       NaN  \n",
       "33                                                NaN       NaN  \n",
       "34                                                NaN       NaN  \n",
       "35  上海培训网为用户提供丰富多彩的培训信息，并向培训机构提供优质信息应用服务，良好信誉及信息优势...  组织机构\\t公司  \n",
       "36  上海声像出版社成立于1983年，集音像制品的摄录、编辑、复制、出版和发行于一体，是我国超大型...       NaN  \n",
       "37                                                NaN       NaN  \n",
       "38                                                NaN       NaN  \n",
       "39                                                NaN       NaN  "
      ]
     },
     "execution_count": 21,
     "metadata": {},
     "output_type": "execute_result"
    }
   ],
   "source": [
    "df_baike.head(40)"
   ]
  },
  {
   "cell_type": "code",
   "execution_count": 29,
   "metadata": {},
   "outputs": [],
   "source": [
    "content_sample = df_baike['content'].iloc[27]"
   ]
  },
  {
   "cell_type": "code",
   "execution_count": 30,
   "metadata": {},
   "outputs": [
    {
     "data": {
      "text/plain": [
       "'上海培罗蒙西服公司成立于1928年，总部位于上海，是一家西服制作有限公司。'"
      ]
     },
     "execution_count": 30,
     "metadata": {},
     "output_type": "execute_result"
    }
   ],
   "source": [
    "content_sample"
   ]
  },
  {
   "cell_type": "code",
   "execution_count": 31,
   "metadata": {},
   "outputs": [],
   "source": [
    "lines = nlp.split2sentences(content_sample)"
   ]
  },
  {
   "cell_type": "code",
   "execution_count": 32,
   "metadata": {},
   "outputs": [
    {
     "data": {
      "text/plain": [
       "['上海培罗蒙西服公司成立于1928年，总部位于上海，是一家西服制作有限公司', '']"
      ]
     },
     "execution_count": 32,
     "metadata": {},
     "output_type": "execute_result"
    }
   ],
   "source": [
    "lines[:100]"
   ]
  },
  {
   "cell_type": "code",
   "execution_count": 33,
   "metadata": {},
   "outputs": [],
   "source": [
    "rels = kg.extract(lines[:100])"
   ]
  },
  {
   "cell_type": "code",
   "execution_count": 35,
   "metadata": {},
   "outputs": [
    {
     "data": {
      "text/plain": [
       "[{'_conf_score': 0.92668116,\n",
       "  'action': '是',\n",
       "  'object': '有限公司',\n",
       "  'subject': '上海培罗蒙西服公司',\n",
       "  'type': 'state'},\n",
       " {'_conf_score': 0.87661725,\n",
       "  'action': '成立',\n",
       "  'object': '于1928年',\n",
       "  'subject': '上海培罗蒙西服公司',\n",
       "  'type': 'prep'},\n",
       " {'_conf_score': 0.77132225,\n",
       "  'action': '是',\n",
       "  'object': '于上海',\n",
       "  'subject': '上海培罗蒙西服公司',\n",
       "  'type': 'prep'}]"
      ]
     },
     "execution_count": 35,
     "metadata": {},
     "output_type": "execute_result"
    }
   ],
   "source": [
    "rels"
   ]
  },
  {
   "cell_type": "code",
   "execution_count": 15,
   "metadata": {},
   "outputs": [],
   "source": [
    "target_title = \"\"\n",
    "selecetd_rels = [rel for rel in rels if target_title in rel[\"subject\"]]"
   ]
  },
  {
   "cell_type": "code",
   "execution_count": 16,
   "metadata": {},
   "outputs": [
    {
     "data": {
      "text/plain": [
       "[{'_conf_score': 0.92668116,\n",
       "  'action': '是',\n",
       "  'object': '有限公司',\n",
       "  'subject': '上海培罗蒙西服公司',\n",
       "  'type': 'state'},\n",
       " {'_conf_score': 0.87661725,\n",
       "  'action': '成立',\n",
       "  'object': '于1928年',\n",
       "  'subject': '上海培罗蒙西服公司',\n",
       "  'type': 'prep'},\n",
       " {'_conf_score': 0.77132225,\n",
       "  'action': '是',\n",
       "  'object': '于上海',\n",
       "  'subject': '上海培罗蒙西服公司',\n",
       "  'type': 'prep'}]"
      ]
     },
     "execution_count": 16,
     "metadata": {},
     "output_type": "execute_result"
    }
   ],
   "source": [
    "selecetd_rels"
   ]
  },
  {
   "cell_type": "code",
   "execution_count": 17,
   "metadata": {},
   "outputs": [],
   "source": [
    "g = kg.rel2graph(selecetd_rels)"
   ]
  },
  {
   "cell_type": "code",
   "execution_count": 18,
   "metadata": {},
   "outputs": [
    {
     "data": {
      "image/png": "[encoded data removed]",
      "text/plain": [
       "<Figure size 1000x1000 with 1 Axes>"
      ]
     },
     "metadata": {},
     "output_type": "display_data"
    }
   ],
   "source": [
    "fig = kg.graph2fig(g, 1000,1000)"
   ]
  },
  {
   "cell_type": "code",
   "execution_count": null,
   "metadata": {},
   "outputs": [],
   "source": []
  }
 ],
 "metadata": {
  "kernelspec": {
   "display_name": "Python 3",
   "language": "python",
   "name": "python3"
  },
  "language_info": {
   "codemirror_mode": {
    "name": "ipython",
    "version": 3
   },
   "file_extension": ".py",
   "mimetype": "text/x-python",
   "name": "python",
   "nbconvert_exporter": "python",
   "pygments_lexer": "ipython3",
   "version": "3.7.3"
  }
 },
 "nbformat": 4,
 "nbformat_minor": 4
}
